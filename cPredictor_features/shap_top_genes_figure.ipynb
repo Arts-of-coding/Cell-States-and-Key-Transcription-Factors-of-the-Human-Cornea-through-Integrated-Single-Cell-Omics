{
 "cells": [
  {
   "cell_type": "code",
   "execution_count": 4,
   "metadata": {},
   "outputs": [],
   "source": [
    "def latex_with_adjustbox_markers(df, *args, **kwargs):\n",
    "    kwargs['column_format'] = '|'.join([''] + ['l'] * df.index.nlevels\n",
    "                                            + ['r'] * df.shape[1] + [''])\n",
    "    res = df.to_latex(*args, **kwargs)\n",
    "    res = res.replace('\\\\begin{tabular}{|l|r|r|r|r|r|}\\n', '\\\\begin{table}\\n\\\\begin{adjustbox}{scale=0.95,center}\\n\\\\begin{tabular}{|l|r|r|r|r|r|r|r|r|r|r|r|r|r|r|r|}\\n\\hline\\n')\n",
    "    res = res.replace('\\end{tabular}\\n', '\\hline\\n\\end{tabular}\\n\\end{adjustbox}\\n\\end{table}\\n')\n",
    "    for i in markers:\n",
    "        res = res.replace(str(i), str('\\\\textbf '+ '{' + i + '}'))\n",
    "\n",
    "    return res"
   ]
  },
  {
   "cell_type": "code",
   "execution_count": 5,
   "metadata": {},
   "outputs": [],
   "source": [
    "markers = [\"PAX6\",\"CLDN4\",\"KRT14\",\"S100A2\",\"TP63\",\"KRT15\",\"GPHA2\",\"SLC6A6\",\"CPVL\",\"BCAM\",\"MKI67\",\"CXCL17\",\"MUC1\",\"KRT7\",\n",
    "           \"S100A8\",\"S100A9\",\"KRT13\",\"KRT3\",\"KRT12\",\"KRT24\",\"AREG\",\"LYPD2\",\"VIM\",\"LUM\",\"KERA\",\"CD34\",\"AQP1\",\"POU3F3\",\"MMP1\",\"MMP2\",\"MMP3\",\n",
    "           \"THY1\",\"NT5E\",\"FBLN1\",\"COL1A1\",\"PDGFRA\",\"COL8A2\",\"CA3\",\"SLC4A11\",\"TNNC1\",\"ACKR1\",\"PECAM1\",\n",
    "           \"LYVE1\",\"PMEL\",\"MLANA\",\"TYRP1\",\"CCL3\",\"CCL4\",\"SOX10\",\"CDH19\",\"NGFR\",\"SCN7A\",\"ACTA2\",\"NOTCH3\",\"MYL9\"]"
   ]
  },
  {
   "cell_type": "code",
   "execution_count": 6,
   "metadata": {},
   "outputs": [
    {
     "name": "stdout",
     "output_type": "stream",
     "text": [
      "LSC-1\n",
      "LSC-2\n",
      "LE\n",
      "Cj\n",
      "CE\n",
      "SK\n",
      "TSK\n",
      "CF\n",
      "EC\n",
      "Ves\n",
      "Mel\n",
      "IC\n",
      "MC\n"
     ]
    }
   ],
   "source": [
    "import pandas as pd\n",
    "import os\n",
    "date_output=\"28082024\"\n",
    "outputdir = \"/mnt/d/surfdrive/Radboud/data/metaatlas_model_check/cpred_model/orgswarup/m4/\"\n",
    "\n",
    "cond_list = [\"LSC-1\",\"LSC-2\", \"LE\", \"Cj\", \"CE\", \"SK\", \"TSK\", \"CF\", \"EC\", \"Ves\", \"Mel\", \"IC\", \"MC\"]\n",
    "\n",
    "# Exclude the non_positive list based on shap output plots\n",
    "negativeshap_dict = {\"LSC-1\":[\"HES1\",\"SH3BGRL3\",\"RPS10\",\"CST3\",\"UBB\",\"S100A10\",\"FABP5\"],\n",
    "                     \"LSC-2\":[\"RPS10\",\"KRT15\",\"HES4\",\"CSRP2\",\"MIF\",\"VIM\",\"ACTG1\",\"HES1\",\"RPL13\",\"HSP90AB1\",\"KLF5\"],\n",
    "                     \"LE\": [\"KRT17\",\"ATF3\",\"C19orf33\",\"SELENOM\",\"KRT13\",\"CLDN4\",\"MGST1\",\"IGFBP6\",\"AQP3\",\"NOP53\"],\n",
    "                     \"Cj\": [\"VIM\",\"FOS\",\"CD24\",\"MT1X\",\"HMGN3\",\"KRT5\",\"RPL7\",\"EIF5A\",\"RPS10\"],\n",
    "                     \"CE\": [\"KRT19\",\"S100A10\",\"S100A11\",\"KRT15\",\"B2M\",\"CD63\",\"KRT13\",\"STMN1\",\"MDK\",\"FTL\",\"FTH1\",\"IGFBP2\",\"AQP3\"],\n",
    "                     \"SK\": [\"CD81\",\"UBC\",\"RPS9\",\"RPS19\",\"RPL13\",\"NDUFA4L2\",\"RPL3\"],\n",
    "                     \"TSK\": [\"TIMP1\",\"RPS4X\",\"GSTP1\"],\n",
    "                     \"CF\":[\"MT1G\",\"RPS10\",\"MT1X\",\"EEF1D\",\"HLA-E\",\"PTGDS\"],\n",
    "                     \"EC\":[\"RPS4X\",\"TMSB10\",\"S100A10\"],\n",
    "                     \"Ves\":[\"ELF3\",\"FTH1\",\"CTS3\"],\n",
    "                     \"Mel\": [\"FBLN1\",\"TMSB4X\",\"SELENOM\"],\n",
    "                     \"IC\":[\"IFITM3\",\"S100A11\",\"FTH1\"],\n",
    "                     \"MC\":[\"S100A10\",\"SRP14\",\"SH3BGRL3\"]}\n",
    "\n",
    "type = \"m4\"\n",
    "\n",
    "df_pretty = None\n",
    "df_pretty = pd.DataFrame()\n",
    "\n",
    "for c in cond_list:\n",
    "    print(c)\n",
    "    if not os.path.isdir(f'{outputdir}{type}_pretty_table.txt'):\n",
    "        top_factors=pd.read_csv(f'{outputdir}{c}_shap_50.csv',sep='\\t',index_col=0)\n",
    "        top_factors[\"genes\"] = top_factors.index\n",
    "        removed = top_factors[~top_factors['genes'].isin(negativeshap_dict[c])]\n",
    "        df_pretty[c] = removed[\"genes\"][0:10].to_list()\n",
    "        #print(top_factors[\"genes\"] not in non_positive_dict[c])\n",
    "        #top_positive = top_factors[top_factors[\"genes\"] not in non_positive_dict[c]]\n",
    "        #print(top_positive)"
   ]
  },
  {
   "cell_type": "code",
   "execution_count": 155,
   "metadata": {},
   "outputs": [],
   "source": [
    "#! pip install Jinja2"
   ]
  },
  {
   "cell_type": "code",
   "execution_count": 7,
   "metadata": {},
   "outputs": [],
   "source": [
    "df_pretty = df_pretty.transpose()\n",
    "df_pretty.columns = [\"gene 1\",\"gene 2\",\"gene 3\",\"gene 4\",\"gene 5\",\"gene 6\",\"gene 7\",\"gene 8\",\"gene 9\",\"gene 10\"]\t"
   ]
  },
  {
   "cell_type": "code",
   "execution_count": 8,
   "metadata": {},
   "outputs": [
    {
     "name": "stdout",
     "output_type": "stream",
     "text": [
      "\\begin{tabular}{|l|r|r|r|r|r|r|r|r|r|r|}\n",
      "\\toprule\n",
      " & gene 1 & gene 2 & gene 3 & gene 4 & gene 5 & gene 6 & gene 7 & gene 8 & gene 9 & gene 10 \\\\\n",
      "\\midrule\n",
      "LSC-1 & MT1X & \\textbf {KRT15} & \\textbf {SLC6A6} & \\textbf {KRT14} & TXNIP & DST & \\textbf {S100A2} & \\textbf {GPHA2} & ID3 & ATF3 \\\\\n",
      "LSC-2 & ALDH3A1 & \\textbf {BCAM} & \\textbf {KRT14} & STMN1 & IGFBP6 & FTH1 & NQO1 & TKT & ANXA1 & \\textbf {KRT12} \\\\\n",
      "LE & RPS10 & GAPDH & SFN & S100A10 & TNFRSF12A & HMGN3 & SH3BGRL3 & FABP5 & FOSL1 & CST3 \\\\\n",
      "Cj & S100A11 & \\textbf {KRT13} & \\textbf {CLDN4} & AQP3 & KRT19 & CD55 & \\textbf {KRT15} & MGST1 & BAG1 & FTH1 \\\\\n",
      "CE & CD24 & S100A14 & KRT17 & ID1 & PTGDS & MT1X & MGARP & ELF3 & COX7B & SLC20A1 \\\\\n",
      "SK & RPS4X & \\textbf {VIM} & ANXA5 & EIF5A & IFITM2 & ANXA1 & HSPD1 & HSPB1 & S100A10 & TNFRSF12A \\\\\n",
      "TSK & MT1G & MT1X & MT2A & NOP53 & MT1E & EEF1D & RPS10 & SSR3 & PTGDS & CCDC85B \\\\\n",
      "CF & \\textbf {FBLN1} & TIMP1 & SELENOM & LGALS1 & EIF1B & FTL & LRP1 & CKB & IFITM3 & IGFBP5 \\\\\n",
      "EC & PTGDS & ENO1 & GAPDH & NFKBIA & IRF1 & ITM2C & NDUFA1 & TPI1 & ZFHX3 & IER3 \\\\\n",
      "Ves & GNG11 & EGFL7 & \\textbf {VIM} & TGFBR2 & TFPI & CRIP2 & CTSH & CD74 & ARHGAP29 & MGST2 \\\\\n",
      "Mel & DCT & APOE & \\textbf {PMEL} & \\textbf {TYRP1} & GPX3 & \\textbf {VIM} & QPCT & CD63 & CD59 & MT1G \\\\\n",
      "IC & CYBA & B2M & STK4 & SRGN & ZFP36L2 & PTPRC & WIPF1 & CXCR4 & CREM & HSPD1 \\\\\n",
      "MC & TAGLN & \\textbf {MYL9} & PTMA & NR2F2 & DSTN & CALD1 & TPM1 & PPP1R12A & SEPTIN7 & IFITM3 \\\\\n",
      "\\bottomrule\n",
      "\\hline\n",
      "\\end{tabular}\n",
      "\\end{adjustbox}\n",
      "\\end{table}\n",
      "\n"
     ]
    }
   ],
   "source": [
    "print(latex_with_adjustbox_markers(df_pretty))"
   ]
  },
  {
   "cell_type": "code",
   "execution_count": 9,
   "metadata": {},
   "outputs": [
    {
     "name": "stdout",
     "output_type": "stream",
     "text": [
      "LSC-1\n",
      "LSC-2\n",
      "LE\n",
      "Cj\n",
      "SK\n",
      "TSK\n",
      "CF\n",
      "EC\n",
      "Ves\n",
      "Mel\n",
      "IC\n",
      "nm-cSC\n",
      "MC\n"
     ]
    }
   ],
   "source": [
    "import pandas as pd\n",
    "import os\n",
    "date_output=\"28082024\"\n",
    "outputdir = \"/mnt/d/surfdrive/Radboud/data/metaatlas_model_check/cpred_model/orgswarup/m1/\"\n",
    "\n",
    "cond_list = [\"LSC-1\",\"LSC-2\", \"LE\", \"Cj\", \"SK\", \"TSK\", \"CF\", \"EC\", \"Ves\", \"Mel\", \"IC\", \"nm-cSC\", \"MC\"]\n",
    "\n",
    "# Exclude the non_positive list based on shap output plots\n",
    "negativeshap_dict = {\"LSC-1\":[\"HMGA1\",\"GJA1\",\"ENO1\",\"HES1\",\"TKT\",\"VIM\",\"SH3BGRL3\",\"RPS10\",\"CST3\",\"UBB\",\"S100A10\",\"FABP5\"],\n",
    "                     \"LSC-2\":[\"HMGA1\",\"RPS8\",\"NPM1\",\"RPS10\",\"KRT15\",\"HES4\",\"CSRP2\",\"MIF\",\"VIM\",\"ACTG1\",\"HES1\",\"RPL13\",\"HSP90AB1\",\"KLF5\"],\n",
    "                     \"LE\": [\"DST\",\"CD24\",\"PRDX1\",\"EIF1B\",\"FTL\",\"KRT17\",\"ATF3\",\"C19orf33\",\"SELENOM\",\"KRT13\",\"CLDN4\",\"MGST1\",\"IGFBP6\",\"AQP3\",\"NOP53\"],\n",
    "                     \"Cj\": [\"VIM\",\"FOS\",\"CD24\",\"MT1X\",\"HMGN3\",\"KRT5\",\"RPL7\",\"EIF5A\",\"RPS10\",\"SRSF5\",\"RPS3\"],\n",
    "                     #\"CE\": [\"KRT19\",\"S100A10\",\"S100A11\",\"KRT15\",\"B2M\",\"CD63\",\"KRT13\",\"STMN1\",\"MDK\",\"FTL\",\"FTH1\",\"IGFBP2\",\"AQP3\"],\n",
    "                     \"SK\": [\"CD81\",\"UBC\",\"RPS9\",\"RPS19\",\"RPL13\",\"NDUFA4L2\",\"RPL3\",\"DDX5\",\"RPL3\"],\n",
    "                     \"TSK\": [\"RPS4X\",\"IFITM3\",\"FABP5\",\"TMSB4X\",\"TIMP1\",\"RPS4X\",\"GSTP1\"],\n",
    "                     \"CF\":[\"MT1G\",\"RPS10\",\"MT1X\",\"EEF1D\",\"KDR\",\"DDX21\"],\n",
    "                     \"EC\":[\"HSP90AA1\",\"RPS4X\",\"TMSB10\",\"RACK1\",\"S100A10\",\"RPL15\",\"FABP5\"],\n",
    "                     \"Ves\":[\"FBLN1\",\"COL1A2\",\"HMGA1\",\"COL3A1\",\"RPL7\",\"ELF3\",\"FTH1\",\"CTS3\"],\n",
    "                     \"Mel\": [\"FGFR1\",\"TMSB4X\"],\n",
    "                     \"IC\":[\"IFITM3\",\"EVI2B\",\"RPS17\",\"RPS15\",\"S100A11\",\"FTH1\"],\n",
    "                     \"nm-cSC\":[\"RPL10A\",\"RPS20\",\"RPS8\",\"RPL4\",\"EIF3E\",\"RPS4X\",\"COL1A2\",\"FLBN1\"],\n",
    "                     \"MC\":[\"S100A10\",\"FGFR1\",\"FBLN1\",\"MARCKS\",\"HMGA1\",\"SRP14\",\"SH3BGRL3\"]}\n",
    "\n",
    "type = \"m1\"\n",
    "\n",
    "df_pretty = None\n",
    "df_pretty = pd.DataFrame()\n",
    "\n",
    "for c in cond_list:\n",
    "    print(c)\n",
    "    if not os.path.isdir(f'{outputdir}{type}_pretty_table.txt'):\n",
    "        top_factors=pd.read_csv(f'{outputdir}{c}_shap_50.csv',sep='\\t',index_col=0)\n",
    "        top_factors[\"genes\"] = top_factors.index\n",
    "        removed = top_factors[~top_factors['genes'].isin(negativeshap_dict[c])]\n",
    "        df_pretty[c] = removed[\"genes\"][0:10].to_list()\n",
    "        #print(top_factors[\"genes\"] not in non_positive_dict[c])\n",
    "        #top_positive = top_factors[top_factors[\"genes\"] not in non_positive_dict[c]]\n",
    "        #print(top_positive)"
   ]
  },
  {
   "cell_type": "code",
   "execution_count": 10,
   "metadata": {},
   "outputs": [],
   "source": [
    "df_pretty = df_pretty.transpose()\n",
    "df_pretty.columns = [\"gene 1\",\"gene 2\",\"gene 3\",\"gene 4\",\"gene 5\",\"gene 6\",\"gene 7\",\"gene 8\",\"gene 9\",\"gene 10\"]\t"
   ]
  },
  {
   "cell_type": "code",
   "execution_count": 11,
   "metadata": {},
   "outputs": [
    {
     "name": "stdout",
     "output_type": "stream",
     "text": [
      "\\begin{tabular}{|l|r|r|r|r|r|r|r|r|r|r|}\n",
      "\\toprule\n",
      " & gene 1 & gene 2 & gene 3 & gene 4 & gene 5 & gene 6 & gene 7 & gene 8 & gene 9 & gene 10 \\\\\n",
      "\\midrule\n",
      "LSC-1 & MT1X & DST & \\textbf {SLC6A6} & NOP53 & RPS3A & RPS27 & PTMA & RPS2 & EZR & ID3 \\\\\n",
      "LSC-2 & STMN1 & TKT & SAT1 & RPS4X & MT1X & RPL5 & SLC38A2 & ANP32B & RPS18 & RPL37A \\\\\n",
      "LE & RPS10 & HMGA1 & GAPDH & FABP5 & GJA1 & S100A10 & HMGN3 & SLC25A6 & RPS8 & BZW1 \\\\\n",
      "Cj & S100A11 & BTG1 & MGST1 & SAT1 & \\textbf {CLDN4} & PRDX1 & FTH1 & KRT19 & TMSB4X & SLC2A1 \\\\\n",
      "SK & RPS4X & HSPD1 & EIF5A & ANXA5 & \\textbf {VIM} & EIF1AX & IFITM2 & HSP90AB1 & RPS27 & SLC2A1 \\\\\n",
      "TSK & MT1G & MT1X & NOP53 & MT1E & SSR3 & DHX36 & EEF1D & NUDC & MT2A & CCNI \\\\\n",
      "CF & \\textbf {FBLN1} & TIMP1 & EIF1B & COL3A1 & FTL & \\textbf {COL1A1} & AMD1 & NPM1 & COL1A2 & IFITM3 \\\\\n",
      "EC & ENO1 & ZFHX3 & APOE & APP & NDUFA1 & TMEM160 & ATP5ME & FUS & EPB41L2 & UQCR11 \\\\\n",
      "Ves & KDR & TFPI & MMRN1 & GNG11 & CALCRL & EGFL7 & LDB2 & \\textbf {PECAM1} & ARHGAP29 & MEF2C \\\\\n",
      "Mel & DCT & \\textbf {PMEL} & APOE & EDNRB & CD63 & STMN1 & \\textbf {VIM} & MYO5A & RBM3 & CHCHD6 \\\\\n",
      "IC & HSPD1 & CYBA & ANKRD28 & B2M & ZEB2 & ZFP36L2 & DHX36 & AKAP13 & STK4 & LCP1 \\\\\n",
      "nm-cSC & GPM6B & CALM2 & NRXN1 & SAMHD1 & WSB1 & KCNMB4 & WNT6 & HSP90AB1 & MT1G & CHPT1 \\\\\n",
      "MC & PPP1R12A & SEPTIN7 & CALD1 & DSTN & TPM1 & NR2F2 & ID4 & PTMA & \\textbf {NOTCH3} & \\textbf {MYL9} \\\\\n",
      "\\bottomrule\n",
      "\\hline\n",
      "\\end{tabular}\n",
      "\\end{adjustbox}\n",
      "\\end{table}\n",
      "\n"
     ]
    }
   ],
   "source": [
    "print(latex_with_adjustbox_markers(df_pretty))"
   ]
  },
  {
   "cell_type": "code",
   "execution_count": 12,
   "metadata": {},
   "outputs": [
    {
     "name": "stdout",
     "output_type": "stream",
     "text": [
      "LSC-1\n",
      "LSC-2\n",
      "LE\n",
      "Cj\n",
      "CE\n",
      "SK\n",
      "TSK\n",
      "CF\n",
      "EC\n",
      "Ves\n",
      "Mel\n",
      "IC\n",
      "nm-cSC\n",
      "MC\n"
     ]
    }
   ],
   "source": [
    "import pandas as pd\n",
    "import os\n",
    "date_output=\"28082024\"\n",
    "outputdir = \"/mnt/d/surfdrive/Radboud/data/metaatlas_model_check/cpred_model/orgswarup/m2/\"\n",
    "\n",
    "cond_list = [\"LSC-1\",\"LSC-2\", \"LE\", \"Cj\", \"CE\", \"SK\", \"TSK\", \"CF\", \"EC\", \"Ves\", \"Mel\", \"IC\", \"nm-cSC\", \"MC\"]\n",
    "\n",
    "# Exclude the non_positive list based on shap output plots\n",
    "negativeshap_dict = {\"LSC-1\":[\"HMGA1\",\"FABP5\",\"GJA1\",\"ENO1\",\"HES1\",\"TKT\",\"VIM\",\"RPS10\",\"UBB\",\"RPS2\",\"EZR\",\"SH3BGRL3\",\"PKM\",\"S100A10\"],\n",
    "                     \"LSC-2\":[\"HMGA1\",\"VIM\",\"HSP90AB1\",\"RPL13\",\"ACTG1\",\"RPS8\",\"NPM1\",\"RPS10\",\"MIF\",\"RPS4X\",\"RPL5\",\"RPS18\",\"RPL37A\",\"HES1\",\"RPL10\"],\n",
    "                     \"LE\": [\"MGST1\",\"DST\",\"CD24\",\"PRDX1\",\"EIF1B\",\"FTL\",\"NOP53\"],\n",
    "                     \"Cj\": [\"VIM\",\"FOS\",\"CD24\",\"CALD1\",\"STMN1\",\"RPS8\",\"MT1X\",\"HMGN3\",\"KRT5\",\"RPL7\",\"EIF5A\",\"RPS10\",\"SRSF5\",\"RPS3\"],\n",
    "                     \"CE\": [\"KRT19\",\"HMGA1\",\"STMN1\",\"S100A10\",\"CD63\",\"MDK\",\"S100A11\",\"GAPDH\",\"FTL\"],\n",
    "                     \"SK\": [\"CD81\",\"UBC\",\"RPS9\",\"RPS19\",\"RPL13\",\"RPS27\",\"RPL3\",\"DDX5\",\"RPL3\",\"SLC2A1\",\"DNAJC15\",\"AMD1\"],\n",
    "                     \"TSK\": [\"RPS4X\",\"IFITM3\",\"FABP5\",\"TMSB4X\",\"TIMP1\",\"RPS4X\",\"GSTP1\",\"HNRNPDL\",\"PTMA\"],\n",
    "                     \"CF\":[\"MT1G\",\"RPS10\",\"MT1X\",\"EEF1D\",\"AMD1\",\"KDR\",\"DDX21\",\"IFITM2\",\"EIF3J\",\"DSTN\",\"ENO1\"],\n",
    "                     \"EC\":[\"HSP90AA1\",\"RPS4X\",\"TMSB10\",\"RACK1\",\"RPL7\",\"RPL15\",\"FABP5\",\"S100A10\"],\n",
    "                     \"Ves\":[\"FBLN1\",\"COL1A2\",\"HMGA1\",\"COL3A1\",\"RPL7\",\"NPM\"],\n",
    "                     \"Mel\": [\"FGFR1\",\"TMSB4X\"],\n",
    "                     \"IC\":[\"IFITM3\",\"MT1E\",\"RPS17\",\"RPS15\",\"CCNB1IP1\",\"BNIP3\"],\n",
    "                     \"nm-cSC\":[\"RPL10A\",\"RPS20\",\"RPS8\",\"RPL4\",\"EIF3E\",\"RPS4X\",\"COL1A2\",\"FLBN1\",\"COL3A1\",\"TCEA1\"],\n",
    "                     \"MC\":[\"S100A10\",\"FGFR1\",\"FBLN1\",\"MARCKS\",\"HMGA1\",\"EEF1G\"]}\n",
    "\n",
    "type = \"m2\"\n",
    "\n",
    "df_pretty = None\n",
    "df_pretty = pd.DataFrame()\n",
    "\n",
    "for c in cond_list:\n",
    "    print(c)\n",
    "    if not os.path.isdir(f'{outputdir}{type}_pretty_table.txt'):\n",
    "        top_factors=pd.read_csv(f'{outputdir}{c}_shap_50.csv',sep='\\t',index_col=0)\n",
    "        top_factors[\"genes\"] = top_factors.index\n",
    "        removed = top_factors[~top_factors['genes'].isin(negativeshap_dict[c])]\n",
    "        df_pretty[c] = removed[\"genes\"][0:10].to_list()\n",
    "        #print(top_factors[\"genes\"] not in non_positive_dict[c])\n",
    "        #top_positive = top_factors[top_factors[\"genes\"] not in non_positive_dict[c]]\n",
    "        #print(top_positive)"
   ]
  },
  {
   "cell_type": "code",
   "execution_count": 13,
   "metadata": {},
   "outputs": [],
   "source": [
    "df_pretty = df_pretty.transpose()\n",
    "df_pretty.columns = [\"gene 1\",\"gene 2\",\"gene 3\",\"gene 4\",\"gene 5\",\"gene 6\",\"gene 7\",\"gene 8\",\"gene 9\",\"gene 10\"]"
   ]
  },
  {
   "cell_type": "code",
   "execution_count": 14,
   "metadata": {},
   "outputs": [
    {
     "name": "stdout",
     "output_type": "stream",
     "text": [
      "\\begin{tabular}{|l|r|r|r|r|r|r|r|r|r|r|}\n",
      "\\toprule\n",
      " & gene 1 & gene 2 & gene 3 & gene 4 & gene 5 & gene 6 & gene 7 & gene 8 & gene 9 & gene 10 \\\\\n",
      "\\midrule\n",
      "LSC-1 & DST & \\textbf {SLC6A6} & RPS3A & RPS27 & MT1X & NOP53 & RPL5 & RPL13 & BTF3 & RPL10 \\\\\n",
      "LSC-2 & SAT1 & STMN1 & FTH1 & CREB5 & TKT & ANXA1 & CSRP2 & KCNMA1 & BTG1 & SLC38A2 \\\\\n",
      "LE & GAPDH & RPS10 & RPS8 & SH3BGRL3 & KRT17 & TNFRSF12A & UBC & RPS9 & RPS27 & S100A10 \\\\\n",
      "Cj & S100A11 & \\textbf {CLDN4} & SAT1 & KRT19 & BTG1 & FTH1 & TMSB4X & CD55 & PERP & AQP3 \\\\\n",
      "CE & CD24 & FTH1 & B2M & ELP4 & IGFBP2 & ELF3 & TKT & C4orf3 & CALM2 & RPL3 \\\\\n",
      "SK & RPS4X & \\textbf {VIM} & RPS8 & RPS18 & HSP90AB1 & ANXA5 & ANXA1 & RPS2 & HSPD1 & RPL10 \\\\\n",
      "TSK & EEF1D & NOP53 & RPL13 & RPLP0 & CCNI & RPS10 & SSR3 & MTDH & AHI1 & EEF1A1 \\\\\n",
      "CF & TIMP1 & \\textbf {FBLN1} & IGFBP5 & FTL & RPS4X & RPS9 & EIF1B & CKB & DCT & HLA-E \\\\\n",
      "EC & ENO1 & ZFHX3 & GAPDH & PTGDS & FTL & PCDH7 & APP & MIF & SFRP1 & NDUFA1 \\\\\n",
      "Ves & ARHGAP29 & \\textbf {VIM} & TFPI & TCF4 & FTH1 & EGFL7 & ZNF385D & MARCKSL1 & HLA-E & TMSB10 \\\\\n",
      "Mel & DCT & \\textbf {PMEL} & \\textbf {TYRP1} & APOE & IGFBP5 & CD63 & TRPM1 & TIMP1 & \\textbf {VIM} & MITF \\\\\n",
      "IC & CXCR4 & PTPRC & B2M & CYBA & STK4 & ZEB2 & WIPF1 & ANKRD28 & FTH1 & EVI2B \\\\\n",
      "nm-cSC & NRXN1 & GPM6B & CALM2 & \\textbf {VIM} & SORBS2 & WSB1 & CHPT1 & HSP90AB1 & KCNMB4 & CST3 \\\\\n",
      "MC & PPP1R12A & EBF1 & NR2F2 & SEPTIN7 & PTMA & CALD1 & DSTN & TPM1 & ZEB2 & LPP \\\\\n",
      "\\bottomrule\n",
      "\\hline\n",
      "\\end{tabular}\n",
      "\\end{adjustbox}\n",
      "\\end{table}\n",
      "\n"
     ]
    }
   ],
   "source": [
    "print(latex_with_adjustbox_markers(df_pretty))"
   ]
  },
  {
   "cell_type": "code",
   "execution_count": 15,
   "metadata": {},
   "outputs": [
    {
     "name": "stdout",
     "output_type": "stream",
     "text": [
      "LSC-1\n",
      "LSC-2\n",
      "LE\n",
      "Cj\n",
      "CE\n",
      "TSK\n",
      "CF\n",
      "EC\n",
      "Ves\n",
      "Mel\n",
      "IC\n",
      "nm-cSC\n",
      "MC\n"
     ]
    }
   ],
   "source": [
    "import pandas as pd\n",
    "import os\n",
    "date_output=\"28082024\"\n",
    "outputdir = \"/mnt/d/surfdrive/Radboud/data/metaatlas_model_check/cpred_model/orgswarup/m3/\"\n",
    "\n",
    "cond_list = [\"LSC-1\",\"LSC-2\", \"LE\", \"Cj\", \"CE\", \"TSK\", \"CF\", \"EC\", \"Ves\", \"Mel\", \"IC\", \"nm-cSC\", \"MC\"]\n",
    "\n",
    "# Exclude the non_positive list based on shap output plots\n",
    "negativeshap_dict = {\"LSC-1\":[\"VIM\",\"ENO1\",\"UBB\",\"CST3\",\"HES1\",\"TKT\",\"VEGFA\",\"RPS2\",\"SH3BGRL3\",\"ASPH\",\"EZR\",\"GSTP1\",\"MIF\"],\n",
    "                     \"LSC-2\":[\"VIM\",\"CSRP2\",\"RPL13\",\"MIF\",\"KCNMA1\",\"ACTG1\",\"RPS8\",\"RPS18\",\"HSP90AB1\",\"BTG1\",\"RPS4X\",\"RPS10\",\"RPL5\",\"HES4\",\"RPL37A\",\"RPL10\"],\n",
    "                     \"LE\": [\"KRT17\",\"UBC\",\"SELENOM\",\"FTL\",\"NOP53\",\"PFDN5\",\"EIF1B\",\"DDIT4\",\"RPS9\",\"CKB\"],\n",
    "                     \"Cj\": [\"VIM\",\"FOS\",\"CD24\",\"CALD1\",\"STMN1\",\"CD24\",\"GSN\",\"RPL7\",\"SRSF5\",\"HMGN3\"],\n",
    "                     \"CE\": [\"KRT19\",\"S100A10\",\"CD63\",\"B2M\",\"FTH1\",\"FTL\",\"IGFBP2\",\"MDK\",\"GAPDH\",\"STMN1\"],\n",
    "                     \"TSK\": [\"RPS4X\",\"TIMP1\",\"TMSB4X\",\"GSTP1\",\"CSTB\",\"JUND\",\"DDIT4\"],\n",
    "                     \"CF\":[\"RPS10\",\"MT1X\",\"EEF1D\",\"BTG1\",\"NOP53\",\"HLA-E\",\"DCT\",\"PMEL\",\"AHI1\"],\n",
    "                     \"EC\":[\"RPS4X\",\"FTL\",\"RPL15\",\"HSP90AA1\",\"TMSB10\",\"RACK1\"],\n",
    "                     \"Ves\":[\"FBLN1\",\"EZR\",\"PLEKHA5\",\"COL3A1\",\"RPL7\",\"NPM\"],\n",
    "                     \"Mel\": [\"IGFBP5\",\"TMSB4X\",\"TIMP1\",\"PLIN2\",\"ZFP36L2\",\"TIMP3\",\"SELENOM\"],\n",
    "                     \"IC\":[\"IFITM3\",\"CD59\",\"TSC22D1\",\"FTH1\"],\n",
    "                     \"nm-cSC\":[\"RPL10A\",\"RPS20\",\"RPS4X\",\"IGFBP2\",\"MIF\",\"TIMP1\",\"KDELR1\",\"EIF3E\",\"RPS8\",\"AHI1\",\"RPL4\",\"GSTP1\"],\n",
    "                     \"MC\":[\"ZFP36L2\",\"MARCKS\",\"EEF1G\",\"SRP14\",\"SAT1\",\"CLK1\",\"GNAS\",\"STMN1\"]}\n",
    "\n",
    "type = \"m3\"\n",
    "\n",
    "df_pretty = None\n",
    "df_pretty = pd.DataFrame()\n",
    "\n",
    "for c in cond_list:\n",
    "    print(c)\n",
    "    if not os.path.isdir(f'{outputdir}{type}_pretty_table.txt'):\n",
    "        top_factors=pd.read_csv(f'{outputdir}{c}_shap_50.csv',sep='\\t',index_col=0)\n",
    "        top_factors[\"genes\"] = top_factors.index\n",
    "        removed = top_factors[~top_factors['genes'].isin(negativeshap_dict[c])]\n",
    "        df_pretty[c] = removed[\"genes\"][0:10].to_list()\n",
    "        #print(top_factors[\"genes\"] not in non_positive_dict[c])\n",
    "        #top_positive = top_factors[top_factors[\"genes\"] not in non_positive_dict[c]]\n",
    "        #print(top_positive)"
   ]
  },
  {
   "cell_type": "code",
   "execution_count": 16,
   "metadata": {},
   "outputs": [],
   "source": [
    "df_pretty = df_pretty.transpose()\n",
    "df_pretty.columns = [\"gene 1\",\"gene 2\",\"gene 3\",\"gene 4\",\"gene 5\",\"gene 6\",\"gene 7\",\"gene 8\",\"gene 9\",\"gene 10\"]"
   ]
  },
  {
   "cell_type": "code",
   "execution_count": 17,
   "metadata": {},
   "outputs": [
    {
     "name": "stdout",
     "output_type": "stream",
     "text": [
      "\\begin{tabular}{|l|r|r|r|r|r|r|r|r|r|r|}\n",
      "\\toprule\n",
      " & gene 1 & gene 2 & gene 3 & gene 4 & gene 5 & gene 6 & gene 7 & gene 8 & gene 9 & gene 10 \\\\\n",
      "\\midrule\n",
      "LSC-1 & MT1X & DST & NOP53 & RPS27 & RPS3A & \\textbf {SLC6A6} & TXNIP & WFDC2 & BTF3 & ID3 \\\\\n",
      "LSC-2 & ANXA1 & STMN1 & FTH1 & TKT & ALDH3A1 & SAT1 & \\textbf {KRT14} & GLUL & ANP32B & NPM1 \\\\\n",
      "LE & RPS10 & GAPDH & RPS8 & TNFRSF12A & SH3BGRL3 & CST3 & S100A10 & HMGN3 & SFN & SLC25A6 \\\\\n",
      "Cj & S100A11 & BTG1 & \\textbf {CLDN4} & KRT19 & SAT1 & MT1X & FTH1 & VEGFA & BAG1 & PERP \\\\\n",
      "CE & CD24 & S100A11 & MT1X & TKT & S100A14 & \\textbf {CLDN4} & KRT17 & PERP & ELF3 & \\textbf {LYPD2} \\\\\n",
      "TSK & MT1X & NOP53 & EEF1D & CCNI & SSR3 & MTDH & AHI1 & RPLP0 & NUDC & RPS10 \\\\\n",
      "CF & TIMP1 & \\textbf {FBLN1} & IGFBP5 & FTL & EIF1B & CKB & PLIN2 & \\textbf {VIM} & SELENOM & ZFP36L2 \\\\\n",
      "EC & PTGDS & ENO1 & ZFHX3 & GAPDH & PCDH7 & APP & TSPYL2 & DDB1 & MIF & NDUFA1 \\\\\n",
      "Ves & TFPI & EGFL7 & ARHGAP29 & TGFBR2 & HYAL2 & MGST2 & TCF4 & CD59 & \\textbf {VIM} & MARCKSL1 \\\\\n",
      "Mel & DCT & \\textbf {PMEL} & \\textbf {TYRP1} & APOE & CD63 & CD59 & QPCT & \\textbf {VIM} & SDCBP & CHCHD6 \\\\\n",
      "IC & EVI2B & PTPRC & CYBA & B2M & STK4 & STK17B & HLA-B & LCP1 & ZFP36L2 & HLA-C \\\\\n",
      "nm-cSC & GPM6B & NRXN1 & \\textbf {VIM} & CALM2 & CST3 & KCNMB4 & WSB1 & CHPT1 & SORBS2 & HSP90AB1 \\\\\n",
      "MC & PPP1R12A & SEPTIN7 & DSTN & PTMA & CALD1 & NR2F2 & ID4 & \\textbf {MYL9} & TIMP3 & TPM1 \\\\\n",
      "\\bottomrule\n",
      "\\hline\n",
      "\\end{tabular}\n",
      "\\end{adjustbox}\n",
      "\\end{table}\n",
      "\n"
     ]
    }
   ],
   "source": [
    "print(latex_with_adjustbox_markers(df_pretty))"
   ]
  },
  {
   "cell_type": "code",
   "execution_count": 18,
   "metadata": {},
   "outputs": [
    {
     "name": "stdout",
     "output_type": "stream",
     "text": [
      "LSC-1\n",
      "LSC-2\n",
      "LE\n",
      "Cj\n",
      "CE\n",
      "qSK\n",
      "SK\n",
      "TSK\n",
      "CF\n",
      "EC\n",
      "Ves\n",
      "Mel\n",
      "IC\n",
      "nm-cSC\n",
      "MC\n"
     ]
    }
   ],
   "source": [
    "import pandas as pd\n",
    "import os\n",
    "date_output=\"28082024\"\n",
    "outputdir = \"/mnt/d/surfdrive/Radboud/data/metaatlas_model_check/cpred_model/adultmaiti/adultmaiti/\"\n",
    "\n",
    "cond_list = [\"LSC-1\",\"LSC-2\", \"LE\", \"Cj\", \"CE\",\"qSK\" ,\"SK\", \"TSK\", \"CF\", \"EC\", \"Ves\", \"Mel\", \"IC\", \"nm-cSC\", \"MC\"]\n",
    "\n",
    "# Exclude the non_positive list based on shap output plots\n",
    "negativeshap_dict = {\"LSC-1\":[\"CST3\",\"FABP5\",\"C11orf96\",\"ALDH3A1\",\"SH3BGRL3\",\"IGFBP7\",\"SFN\",\"HMGA1\"],\n",
    "                     \"LSC-2\":[\"VIM\",\"DCN\",\"RPS10\",\"FABP5\",\"KLF5\",\"BTG1\",\"SERPINF1\",\"MAL2\",\"CSRP2\"],\n",
    "                     \"LE\": [\"IGFBP6\",\"KRT17\"],\n",
    "                     \"Cj\": [\"KRT12\",\"MT1X\",\"DCN\",\"VIM\",\"KRT5\",\"FOS\",\"PTGDS\",\"TFGBI\",\"HMGN3\"],\n",
    "                     \"CE\": [\"CXCL14\",\"MIR205HG\",\"MGARP\",\"S100A10\",\"IGFBP6\",\"ALDH3A1\"],\n",
    "                     \"qSK\": [\"IGFBP4\",\"FOSL1\",\"TNFRSF12A\",\"IGFBP7\"],\n",
    "                     \"SK\": [\"RPS4Y1\",\"HMOX1\",\"DDX3Y\",\"MT-CO3\",\"ANGPTL7\",\"MT-CO2\",\"RARRES1\"],\n",
    "                     \"TSK\": [\"CXCL1\",\"LUM\",\"TIMP1\",\"G0S2\",\"NNMT\"],\n",
    "                     \"CF\":[\"KERA\",\"RPS4Y1\",\"MT1X\",\"PTGDS\",\"TM4SF1\",\"ITGBL1\",\"ANGPTL7\",\"THBS4\",\"TIMP1\",\"G0S2\",\"APOD\"],\n",
    "                     \"EC\":[\"DCT\",\"APOD\",\"FABP5\",\"KCTD12\",\"IRF1\",\"LUM\",\"EDNRB\"],\n",
    "                     \"Ves\":[\"DCN\",\"TM4SF1\",\"MYL9\"],\n",
    "                     \"Mel\": [\"ALDH3A1\",\"KRT14\",\"CLDN4\",\"CXCL14\"],\n",
    "                     \"IC\":[\"KRT14\",\"CRYAB\",\"ALDH3A1\",\"ID3\"],\n",
    "                     \"nm-cSC\":[\"APOD\",\"IGFBP5\",\"TIMP1\",\"DCN\",\"G0S2\"],\n",
    "                     \"MC\":[\"APOD\",\"ZFP36L2\"]}\n",
    "\n",
    "type = \"adultmaiti\"\n",
    "\n",
    "df_pretty = None\n",
    "df_pretty = pd.DataFrame()\n",
    "\n",
    "for c in cond_list:\n",
    "    print(c)\n",
    "    if not os.path.isdir(f'{outputdir}{type}_pretty_table.txt'):\n",
    "        top_factors=pd.read_csv(f'{outputdir}{c}_shap_50.csv',sep='\\t',index_col=0)\n",
    "        top_factors[\"genes\"] = top_factors.index\n",
    "        removed = top_factors[~top_factors['genes'].isin(negativeshap_dict[c])]\n",
    "        df_pretty[c] = removed[\"genes\"][0:10].to_list()\n",
    "        #print(top_factors[\"genes\"] not in non_positive_dict[c])\n",
    "        #top_positive = top_factors[top_factors[\"genes\"] not in non_positive_dict[c]]\n",
    "        #print(top_positive)"
   ]
  },
  {
   "cell_type": "code",
   "execution_count": 19,
   "metadata": {},
   "outputs": [],
   "source": [
    "df_pretty = df_pretty.transpose()\n",
    "df_pretty.columns = [\"gene 1\",\"gene 2\",\"gene 3\",\"gene 4\",\"gene 5\",\"gene 6\",\"gene 7\",\"gene 8\",\"gene 9\",\"gene 10\"]"
   ]
  },
  {
   "cell_type": "code",
   "execution_count": 20,
   "metadata": {},
   "outputs": [
    {
     "name": "stdout",
     "output_type": "stream",
     "text": [
      "\\begin{tabular}{|l|r|r|r|r|r|r|r|r|r|r|}\n",
      "\\toprule\n",
      " & gene 1 & gene 2 & gene 3 & gene 4 & gene 5 & gene 6 & gene 7 & gene 8 & gene 9 & gene 10 \\\\\n",
      "\\midrule\n",
      "LSC-1 & MT1X & \\textbf {KRT14} & \\textbf {SLC6A6} & \\textbf {S100A2} & DST & \\textbf {KRT15} & PMAIP1 & MIR205HG & ID3 & \\textbf {GPHA2} \\\\\n",
      "LSC-2 & ALDH3A1 & IGFBP6 & \\textbf {KRT14} & NQO1 & MIR205HG & TGFBI & HTRA1 & TKT & CAMK2N1 & COL17A1 \\\\\n",
      "LE & RPS10 & FABP5 & TNFRSF12A & HMGA1 & \\textbf {AREG} & SFN & SH3BGRL3 & \\textbf {KRT14} & SOD2 & FOSL1 \\\\\n",
      "Cj & \\textbf {CLDN4} & AQP3 & PTGS2 & PERP & TGFBI & TACSTD2 & BTG1 & S100A11 & NEAT1 & CD55 \\\\\n",
      "CE & \\textbf {KRT3} & CD24 & ADIRF & PTGDS & \\textbf {KRT12} & \\textbf {CLDN4} & APOBEC3A & FABP5 & PERP & UPK3BL1 \\\\\n",
      "qSK & ANGPTL7 & RPS4Y1 & \\textbf {LUM} & \\textbf {KERA} & HMOX1 & HTRA1 & DDX3Y & STEAP4 & PTGDS & CD81 \\\\\n",
      "SK & DCN & SAA1 & ITGBL1 & CD81 & MRPS24 & FOSL1 & \\textbf {VIM} & TNFRSF12A & \\textbf {MMP3} & IFITM2 \\\\\n",
      "TSK & RPS4Y1 & MT1X & PTX3 & MT2A & SSR3 & DDX3Y & SERPINA3 & DCN & LUCAT1 & MYDGF \\\\\n",
      "CF & CXCL1 & NNMT & IGFBP5 & SAA1 & \\textbf {FBLN1} & COL12A1 & HTRA1 & IGFBP7 & RND3 & IGFBP4 \\\\\n",
      "EC & MGP & PTGDS & \\textbf {SLC4A11} & COL4A3 & ENO1 & SFRP1 & ITM2C & CCDC144A & APP & CA12 \\\\\n",
      "Ves & CLDN5 & GNG11 & \\textbf {VIM} & \\textbf {ACKR1} & \\textbf {PECAM1} & TGFBR2 & KLF2 & TCF4 & CCL14 & SPARCL1 \\\\\n",
      "Mel & DCT & \\textbf {PMEL} & \\textbf {TYRP1} & \\textbf {MLANA} & APOE & QPCT & \\textbf {VIM} & CD63 & MITF & TRPM1 \\\\\n",
      "IC & SRGN & \\textbf {CCL4} & \\textbf {CCL3} & CYBA & \\textbf {VIM} & STK4 & \\textbf {CCL3}L1 & BTG1 & DUSP2 & HLA-B \\\\\n",
      "nm-cSC & \\textbf {CDH19} & GPM6B & NRXN1 & \\textbf {SCN7A} & LGI4 & KCNMB4 & RPS4Y1 & PLP1 & SAMHD1 & WNT6 \\\\\n",
      "MC & TAGLN & ID4 & \\textbf {MYL9} & NR2F2 & C11orf96 & RGS5 & \\textbf {NOTCH3} & SPARCL1 & TPM1 & PPP1R12A \\\\\n",
      "\\bottomrule\n",
      "\\hline\n",
      "\\end{tabular}\n",
      "\\end{adjustbox}\n",
      "\\end{table}\n",
      "\n"
     ]
    }
   ],
   "source": [
    "print(latex_with_adjustbox_markers(df_pretty))"
   ]
  },
  {
   "cell_type": "code",
   "execution_count": 3,
   "metadata": {},
   "outputs": [
    {
     "name": "stdout",
     "output_type": "stream",
     "text": [
      "Collecting Jinja2\n",
      "  Downloading jinja2-3.1.4-py3-none-any.whl.metadata (2.6 kB)\n",
      "Collecting MarkupSafe>=2.0 (from Jinja2)\n",
      "  Downloading MarkupSafe-2.1.5-cp39-cp39-manylinux_2_17_x86_64.manylinux2014_x86_64.whl.metadata (3.0 kB)\n",
      "Downloading jinja2-3.1.4-py3-none-any.whl (133 kB)\n",
      "Downloading MarkupSafe-2.1.5-cp39-cp39-manylinux_2_17_x86_64.manylinux2014_x86_64.whl (25 kB)\n",
      "Installing collected packages: MarkupSafe, Jinja2\n",
      "Successfully installed Jinja2-3.1.4 MarkupSafe-2.1.5\n"
     ]
    }
   ],
   "source": [
    "#! pip install Jinja2"
   ]
  },
  {
   "cell_type": "code",
   "execution_count": 21,
   "metadata": {},
   "outputs": [
    {
     "name": "stdout",
     "output_type": "stream",
     "text": [
      "LSC-1\n",
      "LSC-2\n",
      "LE\n",
      "Cj\n",
      "CE\n",
      "SK\n",
      "TSK\n",
      "CF\n",
      "EC\n",
      "Ves\n",
      "Mel\n",
      "IC\n",
      "nm-cSC\n",
      "MC\n"
     ]
    }
   ],
   "source": [
    "import pandas as pd\n",
    "import os\n",
    "date_output=\"28082024\"\n",
    "outputdir = \"/mnt/d/surfdrive/Radboud/data/metaatlas_model_check/cpred_model/orgmaiti/orgmaiti/\"\n",
    "\n",
    "cond_list = [\"LSC-1\",\"LSC-2\", \"LE\", \"Cj\", \"CE\" ,\"SK\", \"TSK\", \"CF\", \"EC\", \"Ves\", \"Mel\", \"IC\", \"nm-cSC\", \"MC\"]\n",
    "\n",
    "# Exclude the non_positive list based on shap output plots\n",
    "negativeshap_dict = {\"LSC-1\":[\"SH3BGRL3\",\"FABP5\",\"SFN\",\"HMGA1\",\"EZR\",\"ENO1\",\"CST3\",\"UBB\",\"VIM\",\"S100A10\"],\n",
    "                     \"LSC-2\":[\"KRT15\",\"VIM\",\"KLF5\",\"PERP\",\"BTG1\",\"HES4\",\"ACTG1\",\"HMGA1\",\"CLDN4\",\"NPM1\",\"MIF\"],\n",
    "                     \"LE\": [\"AQP3\",\"IGFBP6\",\"KRT17\",\"IFGBP6\",\"PERP\",\"SNHG5\",\"UBC\"],\n",
    "                     \"Cj\": [\"VIM\",\"KRT5\",\"MT1X\",\"CD24\",\"S100A2\",\"EIF5A\",\"HMGN3\",\"SRSF5\",\"RPL7\"],\n",
    "                     \"CE\": [\"S100A10\",\"AQP3\",\"S100A11\",\"KRT19\",\"KRT15\",\"CXCL14\",\"B2M\",\"CD63\"],\n",
    "                     \"SK\": [\"MT-CO2\",\"MT-CO3\",\"CD81\",\"HMOX1\",\"UBC\",\"MT-CYB\",\"RPS9\",\"ZFAND5\"],\n",
    "                     \"TSK\": [\"KRT17\",\"SNHG5\",\"TMSB4X\",\"TIMP1\",\"RPS4X\",\"CSTB\",\"JUND\"],\n",
    "                     \"CF\":[\"RPS10\",\"BTG1\",\"ANXA1\",\"EEF1D\",\"MT-ND2\",\"MT1X\",\"CEBPD\",\"HLA-E\"],\n",
    "                     \"EC\":[\"FTL\",\"S100A11\",\"ANXA1\",\"TMSB10\",\"TMSB4X\",\"S100A10\",\"HLA-B\",\"HSP90AA1\",\"RPS4X\"],\n",
    "                     \"Ves\":[\"EMP3\",\"FTH1\",\"S100A11\",\"KDR\",\"EZR\"],\n",
    "                     \"Mel\": [\"TMSB4X\",\"IGFBP2\",\"TIMP1\",\"SELENOM\",\"IGFBP5\"],\n",
    "                     \"IC\":[\"CXCL1\",\"FTH1\",\"IFITM3\",\"KRT17\",\"S100A11\"],\n",
    "                     \"nm-cSC\":[\"NEAT1\",\"RPS20\",\"RPL10A\",\"IGFBP2\",\"SNHG29\",\"RPL4\",\"DSTN\",\"EZR\",\"DSP\"],\n",
    "                     \"MC\":[\"S100A10\",\"SH3BGRL3\",\"ATP1A1\",\"S100A2\",\"TNFRSF12A\"]}\n",
    "\n",
    "type = \"orgmaiti\"\n",
    "\n",
    "df_pretty = None\n",
    "df_pretty = pd.DataFrame()\n",
    "\n",
    "for c in cond_list:\n",
    "    print(c)\n",
    "    if not os.path.isdir(f'{outputdir}{type}_pretty_table.txt'):\n",
    "        top_factors=pd.read_csv(f'{outputdir}{c}_shap_50.csv',sep='\\t',index_col=0)\n",
    "        top_factors[\"genes\"] = top_factors.index\n",
    "        removed = top_factors[~top_factors['genes'].isin(negativeshap_dict[c])]\n",
    "        df_pretty[c] = removed[\"genes\"][0:10].to_list()\n",
    "        #print(top_factors[\"genes\"] not in non_positive_dict[c])\n",
    "        #top_positive = top_factors[top_factors[\"genes\"] not in non_positive_dict[c]]\n",
    "        #print(top_positive)"
   ]
  },
  {
   "cell_type": "code",
   "execution_count": 22,
   "metadata": {},
   "outputs": [],
   "source": [
    "df_pretty = df_pretty.transpose()\n",
    "df_pretty.columns = [\"gene 1\",\"gene 2\",\"gene 3\",\"gene 4\",\"gene 5\",\"gene 6\",\"gene 7\",\"gene 8\",\"gene 9\",\"gene 10\"]"
   ]
  },
  {
   "cell_type": "code",
   "execution_count": 23,
   "metadata": {},
   "outputs": [
    {
     "name": "stdout",
     "output_type": "stream",
     "text": [
      "\\begin{tabular}{|l|r|r|r|r|r|r|r|r|r|r|}\n",
      "\\toprule\n",
      " & gene 1 & gene 2 & gene 3 & gene 4 & gene 5 & gene 6 & gene 7 & gene 8 & gene 9 & gene 10 \\\\\n",
      "\\midrule\n",
      "LSC-1 & \\textbf {S100A2} & MT1X & MIR205HG & KRT17 & DST & ID3 & MT-CO3 & \\textbf {KRT15} & SNHG6 & SNHG29 \\\\\n",
      "LSC-2 & IGFBP6 & \\textbf {BCAM} & MIR205HG & STMN1 & ANXA1 & CAMK2N1 & TKT & KRT5 & IER3 & PLEC \\\\\n",
      "LE & RPS10 & TNFRSF12A & GAPDH & SFN & SH3BGRL3 & FABP5 & KRT6A & HMGN3 & HMGA1 & SRSF5 \\\\\n",
      "Cj & AQP3 & S100A11 & \\textbf {KRT13} & \\textbf {CLDN4} & BTG1 & NEAT1 & PERP & KRT17 & ITGA2 & DSC2 \\\\\n",
      "CE & CD24 & KRT17 & S100A14 & KRT5 & ID1 & TKT & \\textbf {S100A9} & \\textbf {KRT13} & FTH1 & IGFBP2 \\\\\n",
      "SK & \\textbf {VIM} & ANXA5 & ANXA1 & EIF5A & TNFRSF12A & MRPS24 & SNHG7 & KLF6 & RPS4X & CEBPD \\\\\n",
      "TSK & MT1G & MT-CYB & MT1X & MT-ND2 & SNHG29 & SSR3 & NUDC & CCDC85B & MTDH & CCNI \\\\\n",
      "CF & TIMP1 & \\textbf {VIM} & \\textbf {FBLN1} & KRT17 & RND3 & FTL & SNHG5 & EIF1B & AKAP12 & CYP1B1 \\\\\n",
      "EC & TTN & ENO1 & PTGDS & \\textbf {TNNC1} & IER3 & NFKBIA & ID1 & MT-CO1 & APOE & APP \\\\\n",
      "Ves & CLDN5 & \\textbf {VIM} & GNG11 & CRIP2 & ADGRL4 & TCF4 & ARHGAP29 & EGFL7 & \\textbf {PECAM1} & HLA-E \\\\\n",
      "Mel & DCT & \\textbf {PMEL} & APOE & \\textbf {VIM} & \\textbf {TYRP1} & CD63 & SDCBP & CD59 & KLF6 & STMN1 \\\\\n",
      "IC & SRGN & \\textbf {CCL4} & \\textbf {CCL3} & PTPRC & LAPTM5 & STK4 & B2M & SAMSN1 & CYBA & CD44 \\\\\n",
      "nm-cSC & \\textbf {VIM} & CALM2 & WSB1 & CRYAB & GPM6B & HSP90AB1 & NRXN1 & CST3 & CNN3 & RHOB \\\\\n",
      "MC & \\textbf {MYL9} & A2M & TAGLN & TPM1 & CALD1 & PPP1R12A & \\textbf {ACTA2} & SEPTIN7 & ID4 & DSTN \\\\\n",
      "\\bottomrule\n",
      "\\hline\n",
      "\\end{tabular}\n",
      "\\end{adjustbox}\n",
      "\\end{table}\n",
      "\n"
     ]
    }
   ],
   "source": [
    "print(latex_with_adjustbox_markers(df_pretty))"
   ]
  }
 ],
 "metadata": {
  "kernelspec": {
   "display_name": "pyclustree_leidenalg",
   "language": "python",
   "name": "python3"
  },
  "language_info": {
   "codemirror_mode": {
    "name": "ipython",
    "version": 3
   },
   "file_extension": ".py",
   "mimetype": "text/x-python",
   "name": "python",
   "nbconvert_exporter": "python",
   "pygments_lexer": "ipython3",
   "version": "3.9.18"
  }
 },
 "nbformat": 4,
 "nbformat_minor": 2
}
