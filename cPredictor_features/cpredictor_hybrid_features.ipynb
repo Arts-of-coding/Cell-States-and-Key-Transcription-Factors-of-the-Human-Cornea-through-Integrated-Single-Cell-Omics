{
 "cells": [
  {
   "cell_type": "code",
   "execution_count": 58,
   "metadata": {},
   "outputs": [],
   "source": [
    "import scanpy as sc\n",
    "import pandas as pd\n",
    "import os"
   ]
  },
  {
   "cell_type": "code",
   "execution_count": 59,
   "metadata": {},
   "outputs": [
    {
     "data": {
      "text/plain": [
       "AnnData object with n_obs × n_vars = 65036 × 27656\n",
       "    obs: 'orig.ident', 'nCount_RNA', 'nFeature_RNA', 'donors'\n",
       "    var: 'features'"
      ]
     },
     "execution_count": 59,
     "metadata": {},
     "output_type": "execute_result"
    }
   ],
   "source": [
    "#s\n",
    "adata = sc.read(\"/mnt/e/surfdrivesync/radboud/data/python/jupyter_notebooks/cma_meta_atlas.h5ad\")\n",
    "adata"
   ]
  },
  {
   "cell_type": "code",
   "execution_count": 3,
   "metadata": {},
   "outputs": [
    {
     "name": "stdout",
     "output_type": "stream",
     "text": [
      "807\n"
     ]
    }
   ],
   "source": [
    "# Selecting the conditions where the ML algorithm was well calibrated\n",
    "cond_list=[\"LSC\",\"LESC\",\"CE\",\"Cj\",\"qSK\",\"SK\",\"CF\"]\n",
    "\n",
    "def join_shap(c=str):\n",
    "    shap=pd.read_csv(f'SHAP_cpredictor_032/{c}_shap_150.csv',sep='\\t',index_col=0)\n",
    "    shap[\"cell_state\"] = c\n",
    "    return shap\n",
    "\n",
    "plot_list = [join_shap(c) for c in cond_list]\n",
    "shap_full = pd.concat(plot_list, axis=0)\n",
    "\n",
    "shap_unique = shap_full.index.unique().to_list()\n",
    "print(len(shap_unique))"
   ]
  },
  {
   "cell_type": "code",
   "execution_count": 4,
   "metadata": {},
   "outputs": [
    {
     "name": "stdout",
     "output_type": "stream",
     "text": [
      "1047\n"
     ]
    }
   ],
   "source": [
    "# Selecting the conditions where the ML algorithm was well calibrated\n",
    "cond_list_hvg=[\"LSC\",\"LESC\",\"LE\",\"CE\",\"Cj\",\"qSK\",\"SK\",\"CF\",\"TSK\",\"EC\",\"IC\",\"Mel\",\"Ves\",\"nm-cSC\",\"MC\"]\n",
    "date_output = \"18042024\"\n",
    "\n",
    "def join_hvg(c=str):\n",
    "    hvg_150=pd.read_csv(f'HVG_meta_atlas/{date_output}/HVG_{c}_leiden_anno.tsv',sep='\\t',index_col=0)\n",
    "    hvg_150[\"cell_state\"] = c\n",
    "    hvg_150= hvg_150.head(150)\n",
    "    return hvg_150\n",
    "\n",
    "plot_list = [join_hvg(c) for c in cond_list_hvg]\n",
    "hvg_full = pd.concat(plot_list, axis=0)\n",
    "\n",
    "hvg_unique = hvg_full.index.unique().to_list()\n",
    "print(len(hvg_unique))"
   ]
  },
  {
   "cell_type": "code",
   "execution_count": 5,
   "metadata": {},
   "outputs": [
    {
     "name": "stdout",
     "output_type": "stream",
     "text": [
      "1574\n"
     ]
    }
   ],
   "source": [
    "hybrid_features = shap_unique+hvg_unique\n",
    "hybrid_features = list(set(hybrid_features))\n",
    "print(len(hybrid_features))"
   ]
  },
  {
   "cell_type": "code",
   "execution_count": 6,
   "metadata": {},
   "outputs": [
    {
     "name": "stdout",
     "output_type": "stream",
     "text": [
      "1572\n"
     ]
    }
   ],
   "source": [
    "# Remove technical genes/features (e.g. MALAT1 & chromosome linked genes like XIST and SRY)\n",
    "hybrid_features_sel = [i for i in hybrid_features if i not in [\"MALAT1\",\"XIST\",\"SRY\"]]\n",
    "print(len(hybrid_features_sel))"
   ]
  },
  {
   "cell_type": "code",
   "execution_count": 8,
   "metadata": {},
   "outputs": [
    {
     "data": {
      "text/plain": [
       "<65036x1572 sparse matrix of type '<class 'numpy.float64'>'\n",
       "\twith 39360438 stored elements in Compressed Sparse Row format>"
      ]
     },
     "execution_count": 8,
     "metadata": {},
     "output_type": "execute_result"
    }
   ],
   "source": [
    "adata = adata[:, hybrid_features_sel]\n",
    "adata.X"
   ]
  },
  {
   "cell_type": "code",
   "execution_count": 9,
   "metadata": {},
   "outputs": [
    {
     "data": {
      "text/plain": [
       "['KRT7', 'LYVE1', 'NGFR']"
      ]
     },
     "execution_count": 9,
     "metadata": {},
     "output_type": "execute_result"
    }
   ],
   "source": [
    "missing_features = [i for i in ['PAX6', 'KRT14', 'S100A2', 'TP63', 'KRT15', 'GPHA2', 'CPVL', 'CXCL17', 'MUC1',\n",
    "                                 'KRT7', 'S100A8', 'KRT3', 'KRT12', 'KRT24', 'AREG', 'VIM', 'LUM', 'KERA', 'CD34', \n",
    "                                 'MMP1', 'MMP2', 'MMP3', 'THY1', 'NT5E', 'FBLN1', 'COL1A1', 'PDGFRA', 'COL8A2', 'CA3', \n",
    "                                 'SLC4A11', 'ACKR1', 'PECAM1', 'LYVE1', 'MITF', 'CCL3', 'SOX10', 'CDH19', 'NGFR', 'SCN7A', \n",
    "                                 'ACTA2', 'NOTCH3'] if i not in hybrid_features_sel]\n",
    "missing_features\n",
    "\n",
    "# Only KRT7, NGFR and LYVE1 not in the list"
   ]
  },
  {
   "cell_type": "code",
   "execution_count": 10,
   "metadata": {},
   "outputs": [],
   "source": [
    "adata.write_h5ad(\"SHAP_cpredictor_032/cma_meta_atlas.h5ad\")"
   ]
  },
  {
   "cell_type": "markdown",
   "metadata": {},
   "source": [
    "# Recursive feature elimination round 2"
   ]
  },
  {
   "cell_type": "code",
   "execution_count": 4,
   "metadata": {},
   "outputs": [
    {
     "name": "stdout",
     "output_type": "stream",
     "text": [
      "643\n"
     ]
    }
   ],
   "source": [
    "# Selecting the conditions where the ML algorithm was better calibrated after rfe\n",
    "cond_list=[\"CE\", \"CF\", \"Cj\", \"EC\", \"LE\", \"LESC\", \"LSC\", \"Mel\", \"SK\", \"nm-CSC\", \"qSK\"] # No IC, MC, TSK, Ves\n",
    "def join_shap(c=str):\n",
    "    shap=pd.read_csv(f'models_after_training_rfe2/{c}_shap_100.csv',sep='\\t',index_col=0)\n",
    "    shap[\"cell_state\"] = c\n",
    "    return shap\n",
    "\n",
    "plot_list = [join_shap(c) for c in cond_list]\n",
    "shap_full = pd.concat(plot_list, axis=0)\n",
    "\n",
    "shap_unique = shap_full.index.unique().to_list()\n",
    "print(len(shap_unique))"
   ]
  },
  {
   "cell_type": "markdown",
   "metadata": {},
   "source": [
    "# rfe2 shap only"
   ]
  },
  {
   "cell_type": "code",
   "execution_count": null,
   "metadata": {},
   "outputs": [],
   "source": [
    "# Selecting the conditions where the ML algorithm was better calibrated\n",
    "cond_list=[\"CE\", \"CF\", \"Cj\", \"EC\", \"IC\", \"LE\", \"LESC\", \"LSC\", \"MC\", \"Mel\", \"SK\", \"TSK\", \"Ves\", \"nm-CSC\", \"qSK\"]\n",
    "def join_shap(c=str):\n",
    "    shap=pd.read_csv(f'models_after_training_rfe2/{c}_shap_100.csv',sep='\\t',index_col=0)\n",
    "    shap[\"cell_state\"] = c\n",
    "    return shap\n",
    "\n",
    "plot_list = [join_shap(c) for c in cond_list]\n",
    "shap_full = pd.concat(plot_list, axis=0)\n",
    "\n",
    "shap_unique = shap_full.index.unique().to_list()\n",
    "print(len(shap_unique))"
   ]
  },
  {
   "cell_type": "code",
   "execution_count": 5,
   "metadata": {},
   "outputs": [
    {
     "name": "stdout",
     "output_type": "stream",
     "text": [
      "836\n"
     ]
    }
   ],
   "source": [
    "# Remove technical genes/features (e.g. MALAT1 & chromosome linked genes like XIST and SRY)\n",
    "hybrid_features_sel = [i for i in shap_unique if i not in [\"MALAT1\", \"XIST\", \"SRY\", \"MT1Z\", \"GAS5\", \"BTG2\", \"CD9\", \"SNHG32\"]]\n",
    "print(len(hybrid_features_sel))"
   ]
  },
  {
   "cell_type": "code",
   "execution_count": 6,
   "metadata": {},
   "outputs": [
    {
     "data": {
      "text/plain": [
       "<65036x836 sparse matrix of type '<class 'numpy.float64'>'\n",
       "\twith 23102660 stored elements in Compressed Sparse Row format>"
      ]
     },
     "execution_count": 6,
     "metadata": {},
     "output_type": "execute_result"
    }
   ],
   "source": [
    "adata = adata[:, hybrid_features_sel]\n",
    "adata.X"
   ]
  },
  {
   "cell_type": "code",
   "execution_count": 7,
   "metadata": {},
   "outputs": [
    {
     "data": {
      "text/plain": [
       "['CXCL17',\n",
       " 'MUC1',\n",
       " 'KRT7',\n",
       " 'S100A8',\n",
       " 'MMP3',\n",
       " 'THY1',\n",
       " 'NT5E',\n",
       " 'COL8A2',\n",
       " 'CA3',\n",
       " 'LYVE1',\n",
       " 'ACTA2']"
      ]
     },
     "execution_count": 7,
     "metadata": {},
     "output_type": "execute_result"
    }
   ],
   "source": [
    "missing_features = [i for i in ['PAX6', 'KRT14', 'S100A2', 'TP63', 'KRT15', 'GPHA2', 'CPVL', 'CXCL17', 'MUC1',\n",
    "                                 'KRT7', 'S100A8', 'KRT3', 'KRT12', 'KRT24', 'AREG', 'VIM', 'LUM', 'KERA', 'CD34', \n",
    "                                 'MMP1', 'MMP2', 'MMP3', 'THY1', 'NT5E', 'FBLN1', 'COL1A1', 'PDGFRA', 'COL8A2', 'CA3', \n",
    "                                 'SLC4A11', 'ACKR1', 'PECAM1', 'LYVE1', 'MITF', 'CCL3', 'SOX10', 'CDH19', 'NGFR', 'SCN7A', \n",
    "                                 'ACTA2', 'NOTCH3'] if i not in hybrid_features_sel]\n",
    "missing_features\n",
    "\n",
    "# missing_some check which classes are calibrated best without top 100 hvgs"
   ]
  },
  {
   "cell_type": "code",
   "execution_count": 8,
   "metadata": {},
   "outputs": [],
   "source": [
    "adata.write_h5ad(\"SHAP_cpredictor_032_100hvg/shap_only/cma_meta_atlas.h5ad\")"
   ]
  },
  {
   "cell_type": "markdown",
   "metadata": {},
   "source": [
    "# rfe2 shap joined with top 100 hvgs (eventually used for the final model)"
   ]
  },
  {
   "cell_type": "code",
   "execution_count": 5,
   "metadata": {},
   "outputs": [
    {
     "name": "stdout",
     "output_type": "stream",
     "text": [
      "1047\n"
     ]
    }
   ],
   "source": [
    "# Selecting all conditions\n",
    "cond_list_hvg=[\"LSC\",\"LESC\",\"LE\",\"CE\",\"Cj\",\"qSK\",\"SK\",\"CF\",\"TSK\",\"EC\",\"IC\",\"Mel\",\"Ves\",\"nm-cSC\",\"MC\"]\n",
    "date_output = \"18042024\"\n",
    "\n",
    "def join_hvg(c=str):\n",
    "    hvg=pd.read_csv(f'HVG_meta_atlas/{date_output}/HVG_{c}_leiden_anno.tsv',sep='\\t',index_col=0)\n",
    "    hvg[\"cell_state\"] = c\n",
    "    hvg= hvg.head(100)\n",
    "    return hvg\n",
    "\n",
    "plot_list = [join_hvg(c) for c in cond_list_hvg]\n",
    "hvg_full = pd.concat(plot_list, axis=0)\n",
    "\n",
    "hvg_unique = hvg_full.index.unique().to_list()\n",
    "print(len(hvg_unique))"
   ]
  },
  {
   "cell_type": "code",
   "execution_count": 6,
   "metadata": {},
   "outputs": [
    {
     "name": "stdout",
     "output_type": "stream",
     "text": [
      "1249\n"
     ]
    }
   ],
   "source": [
    "hybrid_features = shap_unique+hvg_unique\n",
    "hybrid_features = list(set(hybrid_features))\n",
    "print(len(hybrid_features))"
   ]
  },
  {
   "cell_type": "code",
   "execution_count": 7,
   "metadata": {},
   "outputs": [
    {
     "name": "stdout",
     "output_type": "stream",
     "text": [
      "1243\n"
     ]
    }
   ],
   "source": [
    "# Remove technical genes/features (e.g. MALAT1 & chromosome linked genes like XIST and SRY)\n",
    "hybrid_features_sel = [i for i in hybrid_features if i not in [\"MALAT1\", \"XIST\", \"SRY\", \"MT1Z\", \"GAS5\", \"BTG2\", \"CD9\", \"SNHG32\"]]\n",
    "print(len(hybrid_features_sel))"
   ]
  },
  {
   "cell_type": "code",
   "execution_count": 8,
   "metadata": {},
   "outputs": [
    {
     "data": {
      "text/plain": [
       "<65036x1243 sparse matrix of type '<class 'numpy.float64'>'\n",
       "\twith 33048022 stored elements in Compressed Sparse Row format>"
      ]
     },
     "execution_count": 8,
     "metadata": {},
     "output_type": "execute_result"
    }
   ],
   "source": [
    "adata = adata[:, hybrid_features_sel]\n",
    "adata.X"
   ]
  },
  {
   "cell_type": "code",
   "execution_count": 10,
   "metadata": {},
   "outputs": [
    {
     "data": {
      "text/plain": [
       "['KRT7', 'LYVE1']"
      ]
     },
     "execution_count": 10,
     "metadata": {},
     "output_type": "execute_result"
    }
   ],
   "source": [
    "missing_features = [i for i in ['PAX6', 'KRT14', 'S100A2', 'TP63', 'KRT15', 'GPHA2', 'CPVL', 'CXCL17', 'MUC1',\n",
    "                                 'KRT7', 'S100A8', 'KRT3', 'KRT12', 'KRT24', 'AREG', 'VIM', 'LUM', 'KERA', 'CD34', \n",
    "                                 'MMP1', 'MMP2', 'MMP3', 'THY1', 'NT5E', 'FBLN1', 'COL1A1', 'PDGFRA', 'COL8A2', 'CA3', \n",
    "                                 'SLC4A11', 'ACKR1', 'PECAM1', 'LYVE1', 'MITF', 'CCL3', 'SOX10', 'CDH19', 'NGFR', 'SCN7A', \n",
    "                                 'ACTA2', 'NOTCH3'] if i not in hybrid_features_sel]\n",
    "missing_features\n",
    "\n",
    "# Only KRT7 and LYVE1 not in the list"
   ]
  },
  {
   "cell_type": "code",
   "execution_count": 11,
   "metadata": {},
   "outputs": [],
   "source": [
    "adata.write_h5ad(\"SHAP_cpredictor_032_100hvg/cma_meta_atlas.h5ad\")"
   ]
  },
  {
   "cell_type": "markdown",
   "metadata": {},
   "source": [
    "# rfe3 shap only (below not used due to missing important features)"
   ]
  },
  {
   "cell_type": "code",
   "execution_count": 3,
   "metadata": {},
   "outputs": [
    {
     "name": "stdout",
     "output_type": "stream",
     "text": [
      "452\n"
     ]
    }
   ],
   "source": [
    "# Selecting the conditions where the ML algorithm was better calibrated\n",
    "cond_list=[\"CE\", \"CF\", \"Cj\", \"EC\", \"IC\", \"LE\", \"LESC\", \"LSC\", \"MC\", \"Mel\", \"SK\", \"TSK\", \"Ves\", \"nm-CSC\", \"qSK\"]\n",
    "def join_shap(c=str):\n",
    "    shap=pd.read_csv(f'models_after_training_rfe3/{c}_shap_50.csv',sep='\\t',index_col=0)\n",
    "    shap[\"cell_state\"] = c\n",
    "    return shap\n",
    "\n",
    "plot_list = [join_shap(c) for c in cond_list]\n",
    "shap_full = pd.concat(plot_list, axis=0)\n",
    "\n",
    "shap_unique = shap_full.index.unique().to_list()\n",
    "print(len(shap_unique))"
   ]
  },
  {
   "cell_type": "code",
   "execution_count": 4,
   "metadata": {},
   "outputs": [
    {
     "name": "stdout",
     "output_type": "stream",
     "text": [
      "445\n"
     ]
    }
   ],
   "source": [
    "# Remove technical genes/features (e.g. MALAT1 & chromosome linked genes like XIST and SRY)\n",
    "hybrid_features_sel = [i for i in shap_unique if i not in [\"MALAT1\", \"XIST\", \"SRY\", \"MT1Z\", \"GAS5\", \"BTG2\", \"CD9\", \"SNHG32\", \"OLFM1\", \"RPL13\", \"RPL18A\", \"PFDN5\", \"SAT1\", \"MIF\", \"IFI16\"]]\n",
    "print(len(hybrid_features_sel))"
   ]
  },
  {
   "cell_type": "code",
   "execution_count": 5,
   "metadata": {},
   "outputs": [
    {
     "data": {
      "text/plain": [
       "<65036x445 sparse matrix of type '<class 'numpy.float64'>'\n",
       "\twith 13075249 stored elements in Compressed Sparse Row format>"
      ]
     },
     "execution_count": 5,
     "metadata": {},
     "output_type": "execute_result"
    }
   ],
   "source": [
    "adata = adata[:, hybrid_features_sel]\n",
    "adata.X"
   ]
  },
  {
   "cell_type": "code",
   "execution_count": 6,
   "metadata": {},
   "outputs": [
    {
     "data": {
      "text/plain": [
       "['TP63',\n",
       " 'CXCL17',\n",
       " 'MUC1',\n",
       " 'KRT7',\n",
       " 'S100A8',\n",
       " 'KRT12',\n",
       " 'AREG',\n",
       " 'CD34',\n",
       " 'MMP2',\n",
       " 'MMP3',\n",
       " 'THY1',\n",
       " 'NT5E',\n",
       " 'PDGFRA',\n",
       " 'CA3',\n",
       " 'LYVE1',\n",
       " 'MITF',\n",
       " 'NGFR',\n",
       " 'ACTA2',\n",
       " 'NOTCH3']"
      ]
     },
     "execution_count": 6,
     "metadata": {},
     "output_type": "execute_result"
    }
   ],
   "source": [
    "missing_features = [i for i in ['PAX6', 'KRT14', 'S100A2', 'TP63', 'KRT15', 'GPHA2', 'CPVL', 'CXCL17', 'MUC1',\n",
    "                                 'KRT7', 'S100A8', 'KRT3', 'KRT12', 'KRT24', 'AREG', 'VIM', 'LUM', 'KERA', 'CD34', \n",
    "                                 'MMP1', 'MMP2', 'MMP3', 'THY1', 'NT5E', 'FBLN1', 'COL1A1', 'PDGFRA', 'COL8A2', 'CA3', \n",
    "                                 'SLC4A11', 'ACKR1', 'PECAM1', 'LYVE1', 'MITF', 'CCL3', 'SOX10', 'CDH19', 'NGFR', 'SCN7A', \n",
    "                                 'ACTA2', 'NOTCH3'] if i not in hybrid_features_sel]\n",
    "missing_features\n",
    "\n",
    "# missing_some check which classes are calibrated best without top 150 & 100 hvgs"
   ]
  },
  {
   "cell_type": "code",
   "execution_count": 7,
   "metadata": {},
   "outputs": [],
   "source": [
    "adata.write_h5ad(\"SHAP_cpredictor_032_50hvg/shap_only/cma_meta_atlas.h5ad\")"
   ]
  },
  {
   "cell_type": "markdown",
   "metadata": {},
   "source": [
    "# rfe3 shap joined with top 50 hvgs"
   ]
  },
  {
   "cell_type": "code",
   "execution_count": 21,
   "metadata": {},
   "outputs": [
    {
     "name": "stdout",
     "output_type": "stream",
     "text": [
      "583\n"
     ]
    }
   ],
   "source": [
    "# Selecting all conditions\n",
    "cond_list_hvg=[\"LSC\",\"LESC\",\"LE\",\"CE\",\"Cj\",\"qSK\",\"SK\",\"CF\",\"TSK\",\"EC\",\"IC\",\"Mel\",\"Ves\",\"nm-cSC\",\"MC\"]\n",
    "date_output = \"18042024\"\n",
    "\n",
    "def join_hvg(c=str):\n",
    "    hvg=pd.read_csv(f'HVG_meta_atlas/{date_output}/HVG_{c}_leiden_anno.tsv',sep='\\t',index_col=0)\n",
    "    hvg[\"cell_state\"] = c\n",
    "    hvg= hvg.head(50)\n",
    "    return hvg\n",
    "\n",
    "plot_list = [join_hvg(c) for c in cond_list_hvg]\n",
    "hvg_full = pd.concat(plot_list, axis=0)\n",
    "\n",
    "hvg_unique = hvg_full.index.unique().to_list()\n",
    "print(len(hvg_unique))"
   ]
  },
  {
   "cell_type": "code",
   "execution_count": 22,
   "metadata": {},
   "outputs": [
    {
     "name": "stdout",
     "output_type": "stream",
     "text": [
      "752\n"
     ]
    }
   ],
   "source": [
    "hybrid_features = shap_unique+hvg_unique\n",
    "hybrid_features = list(set(hybrid_features))\n",
    "print(len(hybrid_features))"
   ]
  },
  {
   "cell_type": "code",
   "execution_count": 23,
   "metadata": {},
   "outputs": [
    {
     "name": "stdout",
     "output_type": "stream",
     "text": [
      "740\n"
     ]
    }
   ],
   "source": [
    "# Remove technical genes/features (e.g. MALAT1 & chromosome linked genes like XIST and SRY)\n",
    "hybrid_features_sel = [i for i in hybrid_features if i not in [\"MALAT1\", \"XIST\", \"SRY\", \"MT1Z\", \"GAS5\", \"BTG2\", \"CD9\", \"SNHG32\", \"OLFM1\", \"RPL13\", \"RPL18A\", \"PFDN5\", \"SAT1\", \"MIF\", \"IFI16\"]]\n",
    "print(len(hybrid_features_sel))"
   ]
  },
  {
   "cell_type": "code",
   "execution_count": 24,
   "metadata": {},
   "outputs": [
    {
     "data": {
      "text/plain": [
       "<65036x740 sparse matrix of type '<class 'numpy.float64'>'\n",
       "\twith 21260660 stored elements in Compressed Sparse Row format>"
      ]
     },
     "execution_count": 24,
     "metadata": {},
     "output_type": "execute_result"
    }
   ],
   "source": [
    "adata = adata[:, hybrid_features_sel]\n",
    "adata.X"
   ]
  },
  {
   "cell_type": "code",
   "execution_count": 25,
   "metadata": {},
   "outputs": [
    {
     "data": {
      "text/plain": [
       "['TP63', 'MUC1', 'KRT7', 'CD34', 'THY1', 'NT5E', 'LYVE1', 'NGFR']"
      ]
     },
     "execution_count": 25,
     "metadata": {},
     "output_type": "execute_result"
    }
   ],
   "source": [
    "missing_features = [i for i in ['PAX6', 'KRT14', 'S100A2', 'TP63', 'KRT15', 'GPHA2', 'CPVL', 'CXCL17', 'MUC1',\n",
    "                                 'KRT7', 'S100A8', 'KRT3', 'KRT12', 'KRT24', 'AREG', 'VIM', 'LUM', 'KERA', 'CD34', \n",
    "                                 'MMP1', 'MMP2', 'MMP3', 'THY1', 'NT5E', 'FBLN1', 'COL1A1', 'PDGFRA', 'COL8A2', 'CA3', \n",
    "                                 'SLC4A11', 'ACKR1', 'PECAM1', 'LYVE1', 'MITF', 'CCL3', 'SOX10', 'CDH19', 'NGFR', 'SCN7A', \n",
    "                                 'ACTA2', 'NOTCH3'] if i not in hybrid_features_sel]\n",
    "missing_features\n",
    "\n",
    "# Only KRT7 and LYVE1 not in the list"
   ]
  },
  {
   "cell_type": "code",
   "execution_count": 26,
   "metadata": {},
   "outputs": [],
   "source": [
    "adata.write_h5ad(\"SHAP_cpredictor_032_50hvg/cma_meta_atlas.h5ad\")"
   ]
  },
  {
   "cell_type": "markdown",
   "metadata": {},
   "source": [
    "# rfe3 after calibration check"
   ]
  },
  {
   "cell_type": "code",
   "execution_count": 81,
   "metadata": {},
   "outputs": [
    {
     "name": "stdout",
     "output_type": "stream",
     "text": [
      "417\n"
     ]
    }
   ],
   "source": [
    "# Selecting the conditions where the ML algorithm was better calibrated\n",
    "cond_list=[\"CE\", \"CF\", \"Cj\", \"EC\", \"IC\", \"LE\", \"LSC\",\"MC\", \"SK\", \"TSK\", \"Ves\", \"nm-CSC\", \"qSK\"] # No Mel and LESC\n",
    "def join_shap(c=str):\n",
    "    shap=pd.read_csv(f'models_after_training_rfe3/{c}_shap_50.csv',sep='\\t',index_col=0)\n",
    "    shap[\"cell_state\"] = c\n",
    "    return shap\n",
    "\n",
    "plot_list = [join_shap(c) for c in cond_list]\n",
    "shap_full = pd.concat(plot_list, axis=0)\n",
    "\n",
    "shap_unique = shap_full.index.unique().to_list()\n",
    "print(len(shap_unique))"
   ]
  },
  {
   "cell_type": "code",
   "execution_count": 82,
   "metadata": {},
   "outputs": [
    {
     "name": "stdout",
     "output_type": "stream",
     "text": [
      "192\n"
     ]
    }
   ],
   "source": [
    "# Selecting the conditions where the ML algorithm was better calibrated\n",
    "cond_list=[\"Mel\",\"LESC\"]\n",
    "def join_shap(c=str):\n",
    "    shap=pd.read_csv(f'models_after_training_rfe2/{c}_shap_100.csv',sep='\\t',index_col=0)\n",
    "    shap[\"cell_state\"] = c\n",
    "    return shap\n",
    "\n",
    "plot_list = [join_shap(c) for c in cond_list]\n",
    "shap_full = pd.concat(plot_list, axis=0)\n",
    "\n",
    "shap_unique_mellesc = shap_full.index.unique().to_list()\n",
    "print(len(shap_unique_mellesc))"
   ]
  },
  {
   "cell_type": "code",
   "execution_count": 83,
   "metadata": {},
   "outputs": [
    {
     "name": "stdout",
     "output_type": "stream",
     "text": [
      "356\n"
     ]
    }
   ],
   "source": [
    "# Selecting all conditions\n",
    "cond_list_hvg=[\"LE\",\"qSK\",\"EC\",\"IC\",\"Ves\",\"nm-cSC\",\"MC\",\"Mel\"] # Only no TSK and SK\n",
    "date_output = \"18042024\"\n",
    "\n",
    "def join_hvg(c=str):\n",
    "    hvg=pd.read_csv(f'HVG_meta_atlas/{date_output}/HVG_{c}_leiden_anno.tsv',sep='\\t',index_col=0)\n",
    "    hvg[\"cell_state\"] = c\n",
    "    hvg= hvg.head(50)\n",
    "    return hvg\n",
    "\n",
    "plot_list = [join_hvg(c) for c in cond_list_hvg]\n",
    "hvg_full = pd.concat(plot_list, axis=0)\n",
    "\n",
    "hvg_unique = hvg_full.index.unique().to_list()\n",
    "print(len(hvg_unique))"
   ]
  },
  {
   "cell_type": "code",
   "execution_count": 84,
   "metadata": {},
   "outputs": [
    {
     "name": "stdout",
     "output_type": "stream",
     "text": [
      "687\n"
     ]
    }
   ],
   "source": [
    "hybrid_features = shap_unique+hvg_unique+shap_unique_mellesc\n",
    "hybrid_features = list(set(hybrid_features))\n",
    "print(len(hybrid_features))"
   ]
  },
  {
   "cell_type": "code",
   "execution_count": 85,
   "metadata": {},
   "outputs": [
    {
     "name": "stdout",
     "output_type": "stream",
     "text": [
      "677\n"
     ]
    }
   ],
   "source": [
    "# Remove technical genes/features (e.g. MALAT1 & chromosome linked genes like XIST and SRY)\n",
    "hybrid_features_sel = [i for i in hybrid_features if i not in [\"MALAT1\", \"XIST\", \"SRY\", \"MT1Z\", \"GAS5\", \"BTG2\", \"CD9\", \"SNHG32\", \"OLFM1\", \"RPL13\", \"RPL18A\", \"PFDN5\", \"SAT1\", \"MIF\", \"IFI16\"]]\n",
    "print(len(hybrid_features_sel))"
   ]
  },
  {
   "cell_type": "code",
   "execution_count": 86,
   "metadata": {},
   "outputs": [
    {
     "data": {
      "text/plain": [
       "['TP63',\n",
       " 'CXCL17',\n",
       " 'MUC1',\n",
       " 'KRT7',\n",
       " 'S100A8',\n",
       " 'CD34',\n",
       " 'MMP2',\n",
       " 'MMP3',\n",
       " 'THY1',\n",
       " 'NT5E',\n",
       " 'PDGFRA',\n",
       " 'LYVE1',\n",
       " 'NGFR']"
      ]
     },
     "execution_count": 86,
     "metadata": {},
     "output_type": "execute_result"
    }
   ],
   "source": [
    "missing_features = [i for i in ['PAX6', 'KRT14', 'S100A2', 'TP63', 'KRT15', 'GPHA2', 'CPVL', 'CXCL17', 'MUC1',\n",
    "                                 'KRT7', 'S100A8', 'KRT3', 'KRT12', 'KRT24', 'AREG', 'VIM', 'LUM', 'KERA', 'CD34', \n",
    "                                 'MMP1', 'MMP2', 'MMP3', 'THY1', 'NT5E', 'FBLN1', 'COL1A1', 'PDGFRA', 'COL8A2', 'CA3', \n",
    "                                 'SLC4A11', 'ACKR1', 'PECAM1', 'LYVE1', 'MITF', 'CCL3', 'SOX10', 'CDH19', 'NGFR', 'SCN7A', \n",
    "                                 'ACTA2', 'NOTCH3'] if i not in hybrid_features_sel]\n",
    "missing_features\n",
    "\n",
    "# Only KRT7 and LYVE1 not in the list"
   ]
  },
  {
   "cell_type": "code",
   "execution_count": 87,
   "metadata": {},
   "outputs": [
    {
     "data": {
      "text/plain": [
       "<65036x677 sparse matrix of type '<class 'numpy.float64'>'\n",
       "\twith 18888020 stored elements in Compressed Sparse Row format>"
      ]
     },
     "execution_count": 87,
     "metadata": {},
     "output_type": "execute_result"
    }
   ],
   "source": [
    "adata = adata[:, hybrid_features_sel]\n",
    "adata.X"
   ]
  },
  {
   "cell_type": "code",
   "execution_count": 88,
   "metadata": {},
   "outputs": [],
   "source": [
    "adata.write_h5ad(\"SHAP_cpredictor_032_50hvg/selected/cma_meta_atlas.h5ad\")"
   ]
  },
  {
   "cell_type": "markdown",
   "metadata": {},
   "source": [
    "# Optimal hyperparameters: used object from rfe2 shap joined with top 100 hvgs"
   ]
  },
  {
   "cell_type": "markdown",
   "metadata": {},
   "source": [
    "# OLD"
   ]
  },
  {
   "cell_type": "code",
   "execution_count": 24,
   "metadata": {},
   "outputs": [
    {
     "name": "stderr",
     "output_type": "stream",
     "text": [
      "UsageError: Line magic function `%%timeit` not found.\n"
     ]
    }
   ],
   "source": [
    "# Old to test\n",
    "%%timeit\n",
    "cond_list=[\"LSC\",\"LESC\",\"CE\",\"Cj\",\"qSK\",\"SK\",\"CF\"]\n",
    "\n",
    "plot_list=[]\n",
    "for value in cond_list:    \n",
    "    c = value\n",
    "    results = [each for each in os.listdir(f'SHAP_cpredictor_032/') if each.endswith('shap_150.csv')]\n",
    "    shap = results[0]\n",
    "    shap=pd.read_csv(f'SHAP_cpredictor_032/{c}_shap_150.csv',sep='\\t',index_col=0)\n",
    "    shap[\"cell_state\"] = c\n",
    "    plot_list.append(shap)\n",
    "shap_full = pd.concat(plot_list, axis=0)\n",
    "shap_full"
   ]
  },
  {
   "cell_type": "code",
   "execution_count": 27,
   "metadata": {},
   "outputs": [
    {
     "data": {
      "text/html": [
       "<div>\n",
       "<style scoped>\n",
       "    .dataframe tbody tr th:only-of-type {\n",
       "        vertical-align: middle;\n",
       "    }\n",
       "\n",
       "    .dataframe tbody tr th {\n",
       "        vertical-align: top;\n",
       "    }\n",
       "\n",
       "    .dataframe thead th {\n",
       "        text-align: right;\n",
       "    }\n",
       "</style>\n",
       "<table border=\"1\" class=\"dataframe\">\n",
       "  <thead>\n",
       "    <tr style=\"text-align: right;\">\n",
       "      <th></th>\n",
       "      <th>feature_importance_vals</th>\n",
       "      <th>cell_state</th>\n",
       "    </tr>\n",
       "    <tr>\n",
       "      <th>col_name</th>\n",
       "      <th></th>\n",
       "      <th></th>\n",
       "    </tr>\n",
       "  </thead>\n",
       "  <tbody>\n",
       "    <tr>\n",
       "      <th>GPHA2</th>\n",
       "      <td>0.004786</td>\n",
       "      <td>LSC</td>\n",
       "    </tr>\n",
       "    <tr>\n",
       "      <th>CLDN4</th>\n",
       "      <td>0.004634</td>\n",
       "      <td>LSC</td>\n",
       "    </tr>\n",
       "    <tr>\n",
       "      <th>MGST1</th>\n",
       "      <td>0.002822</td>\n",
       "      <td>LSC</td>\n",
       "    </tr>\n",
       "    <tr>\n",
       "      <th>MT1X</th>\n",
       "      <td>0.002682</td>\n",
       "      <td>LSC</td>\n",
       "    </tr>\n",
       "    <tr>\n",
       "      <th>AQP3</th>\n",
       "      <td>0.002095</td>\n",
       "      <td>LSC</td>\n",
       "    </tr>\n",
       "    <tr>\n",
       "      <th>...</th>\n",
       "      <td>...</td>\n",
       "      <td>...</td>\n",
       "    </tr>\n",
       "    <tr>\n",
       "      <th>ANXA5</th>\n",
       "      <td>0.000303</td>\n",
       "      <td>CF</td>\n",
       "    </tr>\n",
       "    <tr>\n",
       "      <th>AC083843.3</th>\n",
       "      <td>0.000299</td>\n",
       "      <td>CF</td>\n",
       "    </tr>\n",
       "    <tr>\n",
       "      <th>TMEM219</th>\n",
       "      <td>0.000298</td>\n",
       "      <td>CF</td>\n",
       "    </tr>\n",
       "    <tr>\n",
       "      <th>HECTD4</th>\n",
       "      <td>0.000297</td>\n",
       "      <td>CF</td>\n",
       "    </tr>\n",
       "    <tr>\n",
       "      <th>UBE2A</th>\n",
       "      <td>0.000297</td>\n",
       "      <td>CF</td>\n",
       "    </tr>\n",
       "  </tbody>\n",
       "</table>\n",
       "<p>1050 rows × 2 columns</p>\n",
       "</div>"
      ],
      "text/plain": [
       "            feature_importance_vals cell_state\n",
       "col_name                                      \n",
       "GPHA2                      0.004786        LSC\n",
       "CLDN4                      0.004634        LSC\n",
       "MGST1                      0.002822        LSC\n",
       "MT1X                       0.002682        LSC\n",
       "AQP3                       0.002095        LSC\n",
       "...                             ...        ...\n",
       "ANXA5                      0.000303         CF\n",
       "AC083843.3                 0.000299         CF\n",
       "TMEM219                    0.000298         CF\n",
       "HECTD4                     0.000297         CF\n",
       "UBE2A                      0.000297         CF\n",
       "\n",
       "[1050 rows x 2 columns]"
      ]
     },
     "execution_count": 27,
     "metadata": {},
     "output_type": "execute_result"
    }
   ],
   "source": [
    "# Selecting the conditions where the ML algorithm was not well calibrated\n",
    "cond_list=[\"LSC\",\"LESC\",\"CE\",\"Cj\",\"qSK\",\"SK\",\"CF\"]\n",
    "\n",
    "def join_hvg(c=str):\n",
    "    results = [each for each in os.listdir(f'SHAP_cpredictor_032/') if each.endswith('shap_150.csv')]\n",
    "    shap = results[0]\n",
    "    shap=pd.read_csv(f'SHAP_cpredictor_032/{c}_shap_150.csv',sep='\\t',index_col=0)\n",
    "    shap[\"cell_state\"] = c\n",
    "    return shap\n",
    "\n",
    "plot_list = [join_shap(value=c) for c in cond_list]\n",
    "shap_full = pd.concat(plot_list, axis=0)\n",
    "shap_full"
   ]
  }
 ],
 "metadata": {
  "kernelspec": {
   "display_name": "JA_scenic",
   "language": "python",
   "name": "python3"
  },
  "language_info": {
   "codemirror_mode": {
    "name": "ipython",
    "version": 3
   },
   "file_extension": ".py",
   "mimetype": "text/x-python",
   "name": "python",
   "nbconvert_exporter": "python",
   "pygments_lexer": "ipython3",
   "version": "3.9.19"
  }
 },
 "nbformat": 4,
 "nbformat_minor": 2
}
